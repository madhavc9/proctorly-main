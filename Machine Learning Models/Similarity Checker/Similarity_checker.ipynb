{
  "nbformat": 4,
  "nbformat_minor": 0,
  "metadata": {
    "colab": {
      "provenance": []
    },
    "kernelspec": {
      "name": "python3",
      "display_name": "Python 3"
    },
    "language_info": {
      "name": "python"
    }
  },
  "cells": [
    {
      "cell_type": "code",
      "source": [
        "!gdown --id 0B7XkCwpI5KDYNlNUTTlSS21pQmM"
      ],
      "metadata": {
        "colab": {
          "base_uri": "https://localhost:8080/"
        },
        "id": "2iG5iz6W_pcc",
        "outputId": "88e2a4ed-f5c6-44f9-ec9a-bdff8cea9b4e"
      },
      "execution_count": null,
      "outputs": [
        {
          "output_type": "stream",
          "name": "stdout",
          "text": [
            "/usr/local/lib/python3.10/dist-packages/gdown/__main__.py:140: FutureWarning: Option `--id` was deprecated in version 4.3.1 and will be removed in 5.0. You don't need to pass it anymore to use a file ID.\n",
            "  warnings.warn(\n",
            "Downloading...\n",
            "From (original): https://drive.google.com/uc?id=0B7XkCwpI5KDYNlNUTTlSS21pQmM\n",
            "From (redirected): https://drive.google.com/uc?id=0B7XkCwpI5KDYNlNUTTlSS21pQmM&confirm=t&uuid=3f2b8084-8f6e-48d1-94cb-929185e508fc\n",
            "To: /content/GoogleNews-vectors-negative300.bin.gz\n",
            "100% 1.65G/1.65G [00:20<00:00, 81.5MB/s]\n"
          ]
        }
      ]
    },
    {
      "cell_type": "code",
      "source": [
        "!mkdir plagChecking\n",
        "\n"
      ],
      "metadata": {
        "colab": {
          "base_uri": "https://localhost:8080/"
        },
        "id": "_-670u7jAhmH",
        "outputId": "d00399ce-e51c-4cdf-f11d-2f0bd7acf148"
      },
      "execution_count": null,
      "outputs": [
        {
          "output_type": "stream",
          "name": "stdout",
          "text": [
            "mkdir: cannot create directory ‘plagChecking’: File exists\n"
          ]
        }
      ]
    },
    {
      "cell_type": "code",
      "execution_count": null,
      "metadata": {
        "colab": {
          "base_uri": "https://localhost:8080/"
        },
        "id": "E-xRNnNmujgG",
        "outputId": "a06cc921-f8c5-441d-ec92-9700e93e76c0"
      },
      "outputs": [
        {
          "output_type": "stream",
          "name": "stdout",
          "text": [
            "[{'score': 0.76359516, 'doc': 'simulation process, select input variables '}, {'score': 0.7419697, 'doc': 'variables of a simulation model '}, {'score': 0.7339794, 'doc': 'an appropriate simulation software. Step '}, {'score': 0.7259899, 'doc': 'decision variables to the simulation '}, {'score': 0.69131726, 'doc': 'to perform simulation analysis. Step '}, {'score': 0.68311447, 'doc': 'and create entities. Decision variables '}, {'score': 0.676798, 'doc': 'designing a simulation experiment. Step '}, {'score': 0.66773236, 'doc': 'Step 3. Perform simulation runs. '}, {'score': 0.66170055, 'doc': 'simulation modelling and analysis activity '}, {'score': 0.6597993, 'doc': 'to perform simulation analysis. Answer '}, {'score': 0.6569469, 'doc': 'a simulation experiment. Answer - '}, {'score': 0.6569469, 'doc': 'analysis. Answer - Simulation modelling '}, {'score': 0.65537655, 'doc': 'simulation run is appropriate. Select '}, {'score': 0.64947146, 'doc': 'A simulation experiment is a '}, {'score': 0.6488814, 'doc': 'simulation modelling and analysis are '}, {'score': 0.6488814, 'doc': 'simulation modelling and analysis are '}, {'score': 0.643184, 'doc': 'The simulation model is either '}, {'score': 0.6291195, 'doc': 'variables - ones that performance '}, {'score': 0.6158232, 'doc': 'benefits of simulation modelling and '}, {'score': 0.6119905, 'doc': 'few input variables that are '}, {'score': 0.609992, 'doc': 'problem suitable for simulation modelling '}, {'score': 0.60738564, 'doc': 'certain processes in the real '}, {'score': 0.60422176, 'doc': 'a simulation study is greater '}, {'score': 0.60225123, 'doc': 'developing a mathematical model of '}, {'score': 0.6016816, 'doc': 'simulation output analysis. ➢ Initial '}, {'score': 0.5979936, 'doc': 'model to discover the optimum '}, {'score': 0.59793514, 'doc': 'tests in which meaningful changes '}, {'score': 0.5964158, 'doc': 'steps illustrate the process of '}, {'score': 0.5955461, 'doc': 'Making one simulation run for '}, {'score': 0.58877003, 'doc': 'general, simulation is the instrument '}, {'score': 0.5881126, 'doc': \"8: Check the simulation model's \"}, {'score': 0.5871974, 'doc': '➢ The simulation programme has '}, {'score': 0.58520937, 'doc': 'a systems approach to problem '}, {'score': 0.58315915, 'doc': 'is appropriate, simulation is used. '}, {'score': 0.5800277, 'doc': 'understanding of the system by '}, {'score': 0.57772136, 'doc': 'variables, whereas random variables are '}, {'score': 0.5757506, 'doc': 'process to create limits on '}, {'score': 0.5706655, 'doc': 'and robust systems and reduce '}, {'score': 0.56832993, 'doc': 'solution by adjusting the variable '}, {'score': 0.56779623, 'doc': 'the mathematical model describing the '}, {'score': 0.56457764, 'doc': 'variables that will be output. '}, {'score': 0.56348926, 'doc': 'and uncontrolled variables are the '}, {'score': 0.5601955, 'doc': 'real system. ➢ Experiment with '}, {'score': 0.5593034, 'doc': 'to output analysis, simulation can '}, {'score': 0.5545141, 'doc': 'the wrong input probability distribution. '}, {'score': 0.55446744, 'doc': 'question of obtaining accurate information '}, {'score': 0.5540363, 'doc': 'them. Step 4: Determine the '}, {'score': 0.55332744, 'doc': '(e.g., complex systems like the '}, {'score': 0.55286175, 'doc': 'or extremely expensive to validate '}, {'score': 0.55191374, 'doc': '1: Select appropriate experimental design. '}, {'score': 0.5496177, 'doc': 'a system by altering the '}, {'score': 0.5490497, 'doc': 'bugs. ➢ Using standard statistical '}, {'score': 0.54393035, 'doc': 'process that requires the participation '}, {'score': 0.54097605, 'doc': 'Step 9: Experiment with the '}, {'score': 0.5392389, 'doc': 'which mathematical model can be '}, {'score': 0.5380489, 'doc': 'of the fields where simulation '}, {'score': 0.53254884, 'doc': 'Use multiple performance metrics for '}, {'score': 0.5318885, 'doc': 'values. Step 10: Finally, implement '}, {'score': 0.5300674, 'doc': 'time. ➢ Test hypotheses about '}, {'score': 0.5248411, 'doc': 'setup. Step 2. Establish experimental '}, {'score': 0.52419734, 'doc': 'uncontrollable. Step 3: Assign the '}, {'score': 0.51178765, 'doc': 'Step 5: Gather information from '}, {'score': 0.50889534, 'doc': 'the run length. Select appropriate '}, {'score': 0.5065583, 'doc': 'system and significantly reduces the '}, {'score': 0.50498366, 'doc': 'analysing system configurations. ➢ Employ '}, {'score': 0.50379205, 'doc': 'formulated but analytic solutions are '}, {'score': 0.50089025, 'doc': 'Using the wrong performance measure. '}, {'score': 0.4996467, 'doc': 'Perform runs according to steps '}, {'score': 0.49814895, 'doc': 'or extremely expensive to observe '}, {'score': 0.49806795, 'doc': 'Compress time to observe certain '}, {'score': 0.49758324, 'doc': 'expand time to observe a '}, {'score': 0.49603385, 'doc': 'behaviour of the response variable '}, {'score': 0.49519378, 'doc': 'output data sample size. Sample '}, {'score': 0.49424154, 'doc': 'a configuration 5. Outline the '}, {'score': 0.4904846, 'doc': '1. Explain how to design '}, {'score': 0.48773485, 'doc': 'analysis are just a few '}, {'score': 0.48773485, 'doc': 'and analysis is one of '}, {'score': 0.48599058, 'doc': '➢ When an analytic solution '}, {'score': 0.47371158, 'doc': 'difference equations) or too complicated '}, {'score': 0.47281522, 'doc': 'solving. ➢ Develop well designed '}, {'score': 0.47199732, 'doc': 'system is stationary or non-stationary. '}, {'score': 0.46839386, 'doc': 'to provide the required confidence '}, {'score': 0.46814254, 'doc': 'complex phenomenon in detail. ➢ '}, {'score': 0.46801937, 'doc': 'Create a flowchart that depicts '}, {'score': 0.46714327, 'doc': 'changes in the performance measures. '}, {'score': 0.4647026, 'doc': 'changes on the operation of '}, {'score': 0.46464345, 'doc': 'formulas that assume independence in '}, {'score': 0.4646182, 'doc': 'the real-world system to use '}, {'score': 0.4646182, 'doc': 'a system of interest, and '}, {'score': 0.46111146, 'doc': 'the system for feasibility. ➢ '}, {'score': 0.45791635, 'doc': 'and identify the reasons for '}, {'score': 0.45083523, 'doc': 'in the performance measure estimates. '}, {'score': 0.45070404, 'doc': 'each run. Determine if the '}, {'score': 0.44954818, 'doc': 'risk of experimenting with the '}, {'score': 0.44915053, 'doc': 'programmer has control over decision '}, {'score': 0.44844016, 'doc': 'them. ➢ Identify bottlenecks in '}, {'score': 0.44569284, 'doc': 'Choose a performance measure, a '}, {'score': 0.44272706, 'doc': 'test or a series of '}, {'score': 0.4385934, 'doc': 'Study the effects of certain '}, {'score': 0.4385488, 'doc': 'starting conditions - by considering '}, {'score': 0.42043838, 'doc': 'research techniques. Some benefits of '}, {'score': 0.42041206, 'doc': 'conditions for runs. Address the '}, {'score': 0.41779408, 'doc': 'new or unknown situations about '}, {'score': 0.41583958, 'doc': 'be thoroughly recorded. ➢ Using '}, {'score': 0.4153302, 'doc': 'too complicated or too simplistic. '}, {'score': 0.41532943, 'doc': 'phenomena over long periods or '}, {'score': 0.41472167, 'doc': 'available. ➢ Identify the \"driving\" '}, {'score': 0.4088328, 'doc': 'detail over long periods of '}, {'score': 0.40560317, 'doc': 'The number of experiments in '}, {'score': 0.40479088, 'doc': 'done without disrupting the real '}, {'score': 0.40463406, 'doc': 'are made to the input '}, {'score': 0.4046228, 'doc': 'measures are most sensitive to '}, {'score': 0.40105247, 'doc': \"observing the system's operation in \"}, {'score': 0.40025106, 'doc': 'are examples of instances when '}, {'score': 0.3993986, 'doc': 'space shuttle, and the effect '}, {'score': 0.39723915, 'doc': 'To run the model, select '}, {'score': 0.39473653, 'doc': 'be a time-consuming and complex '}, {'score': 0.38669482, 'doc': '- Following are the steps '}, {'score': 0.38560244, 'doc': 'statement. Step 2: For the '}, {'score': 0.38560244, 'doc': 'in the simulation. Step 6: '}, {'score': 0.38560244, 'doc': \"the simulation's development. Step 7: \"}, {'score': 0.3842702, 'doc': 'the flow of entities (material, '}, {'score': 0.3793874, 'doc': 'which only weak information is '}, {'score': 0.37702608, 'doc': 'run uses a different random '}, {'score': 0.37593663, 'doc': 'starting conditions. Decide the number '}, {'score': 0.37137136, 'doc': '➢ Assumptions that are incorrect. '}, {'score': 0.37137136, 'doc': \"➢ Assumptions that haven't been \"}, {'score': 0.36528566, 'doc': 'bias in output data. ➢ '}, {'score': 0.36452615, 'doc': 'and analysis? Answer - In '}, {'score': 0.36452615, 'doc': 'simulation. Answer - From modelling '}, {'score': 0.3611857, 'doc': ': ➢ Obtain a better '}, {'score': 0.3574963, 'doc': 'results against the real-time system. '}, {'score': 0.3574963, 'doc': 'the results into the real-time '}, {'score': 0.35515139, 'doc': 'so that we may observe '}, {'score': 0.35429797, 'doc': 'all assumptions made during the '}, {'score': 0.35401067, 'doc': 'a record of the experimental '}, {'score': 0.35229707, 'doc': 'data. Government, defence, computer and '}, {'score': 0.3518571, 'doc': 'used: ➢ It is impossible '}, {'score': 0.3518571, 'doc': 'models). ➢ It is impossible '}, {'score': 0.35116854, 'doc': '1 − Prepare a problem '}, {'score': 0.35109282, 'doc': \"➢ Model isn't valid. ➢ \"}, {'score': 0.34821242, 'doc': 'of choice when it comes '}, {'score': 0.34585097, 'doc': 'to modelling and analysing randomness '}, {'score': 0.3417408, 'doc': 'of local experts and decision-makers '}, {'score': 0.34088492, 'doc': 'the levels of each. Make '}, {'score': 0.3404281, 'doc': 'and the most information from '}, {'score': 0.32636103, 'doc': 'communication systems, manufacturing, transportation (air '}, {'score': 0.3252447, 'doc': 'traffic control), health care, ecology '}, {'score': 0.32474193, 'doc': 'is of interest. Ascertain whether '}, {'score': 0.32395875, 'doc': 'informational, organizational, environmental and policy '}, {'score': 0.32006058, 'doc': 'the most frequently used operations '}, {'score': 0.31815565, 'doc': 'either impossible (e.g., high order '}, {'score': 0.3181409, 'doc': 'and environment, sociological and behavioural '}, {'score': 0.31748435, 'doc': '➢ Replacing a distribution (stochastic) '}, {'score': 0.3101986, 'doc': 'system, e.g., due to insufficient '}, {'score': 0.31008986, 'doc': 'number of questions being asked '}, {'score': 0.30912828, 'doc': 'by its mean (deterministic). ➢ '}, {'score': 0.30793676, 'doc': 'of independent runs - each '}, {'score': 0.29545102, 'doc': 'statistics, performance of the next '}, {'score': 0.27701965, 'doc': 'studies, biosciences, epidemiology, services (bank '}, {'score': 0.2754655, 'doc': 'pitfalls to guard against in '}, {'score': 0.2754655, 'doc': 'of pitfalls to guard against. '}, {'score': 0.2738458, 'doc': 'two sorts of variables. The '}, {'score': 0.26538518, 'doc': '1-2 above. 2. Summarize how '}, {'score': 0.25908792, 'doc': 'stock market, and large-scale queuing '}, {'score': 0.25680578, 'doc': 'size must be large enough '}, {'score': 0.2539122, 'doc': 'likely to influence it, and '}, {'score': 0.24941058, 'doc': 'Generally, in stationary systems, steady-state '}, {'score': 0.24831676, 'doc': 'system. 3. What makes a '}, {'score': 0.23450528, 'doc': 'throughout. Following is a list '}, {'score': 0.23266913, 'doc': 'number stream and the same '}, {'score': 0.22365925, 'doc': 'of Internet advertising on a '}, {'score': 0.22262223, 'doc': 'than or equal to the '}, {'score': 0.21077287, 'doc': 'about the model. The following '}, {'score': 0.21077287, 'doc': 'in a system. The following '}, {'score': 0.20960085, 'doc': 'it is strongly advised that '}, {'score': 0.18890736, 'doc': 'teller scheduling), economics, and business '}, {'score': 0.18641943, 'doc': 'a terminating or a non-terminating '}, {'score': 0.16305612, 'doc': 'is used. 4. List some '}, {'score': 0.16129783, 'doc': \"world, e.g., next year's cancer \"}, {'score': 0.14879306, 'doc': \"company's sales. ➢ Problems in \"}, {'score': 0.14879306, 'doc': 'people, etc.) or information. ➢ '}]\n",
            "0.450376421049401\n"
          ]
        },
        {
          "output_type": "stream",
          "name": "stderr",
          "text": [
            "/usr/local/lib/python3.10/dist-packages/numpy/core/fromnumeric.py:3504: RuntimeWarning: Mean of empty slice.\n",
            "  return _methods._mean(a, axis=axis, dtype=dtype,\n",
            "/usr/local/lib/python3.10/dist-packages/numpy/core/_methods.py:129: RuntimeWarning: invalid value encountered in scalar divide\n",
            "  ret = ret.dtype.type(ret / rcount)\n"
          ]
        }
      ],
      "source": [
        "import numpy as np\n",
        "from gensim.models.keyedvectors import KeyedVectors\n",
        "\n",
        "# use this command to download the file - !wget -P /root/input/ -c \"https://s3.amazonaws.com/dl4j-distribution/GoogleNews-vectors-negative300.bin.gz\"\n",
        "saved_vectors = 'GoogleNews-vectors-negative300.bin.gz'\n",
        "EMBEDDING_FILE = 'GoogleNews-vectors-negative300.bin.gz'\n",
        "\n",
        "#converting answers of the target student to a string\n",
        "with open(\"plagChecking/answer_sheet1.txt\", \"r\") as file:\n",
        "    data1 = file.read().replace(\"\\n\", \" \")\n",
        "\n",
        "#converting answers of the other student to a list of strings\n",
        "with open(\"plagChecking/answer_sheet2.txt\", \"r\") as file:\n",
        "    data2 = file.read().replace(\"\\n\", \" \")\n",
        "\n",
        "data2 = data2.split(\" \")\n",
        "answer_paper2 = []\n",
        "for i in range(int(len(data2) / 5)):\n",
        "    answer_paper2.append(data2[5 * i: (5 * i) + 5])\n",
        "\n",
        "ans2 = []\n",
        "for i in answer_paper2:\n",
        "    empty = \"\"\n",
        "    for j in i:\n",
        "        empty += (j + \" \")\n",
        "    ans2.append(empty)\n",
        "\n",
        "\n",
        "class DocSim:\n",
        "    def __init__(self, w2v_model, stopwords=None):\n",
        "        self.w2v_model = w2v_model\n",
        "        self.stopwords = stopwords if stopwords is not None else []\n",
        "\n",
        "    def vectorize(self, doc: str) -> np.ndarray:\n",
        "        \"\"\"\n",
        "        Identify the vector values for each word in the given document\n",
        "        :param doc:\n",
        "        :return:\n",
        "        \"\"\"\n",
        "        doc = doc.lower()\n",
        "        words = [w for w in doc.split(\" \") if w not in self.stopwords]\n",
        "        word_vecs = []\n",
        "        for word in words:\n",
        "            try:\n",
        "                vec = self.w2v_model[word]\n",
        "                word_vecs.append(vec)\n",
        "            except KeyError:\n",
        "                # Ignore, if the word doesn't exist in the vocabulary\n",
        "                pass\n",
        "\n",
        "        # Assuming that document vector is the mean of all the word vectors\n",
        "        # We could improvise here\n",
        "        vector = np.mean(word_vecs, axis=0)\n",
        "        return vector\n",
        "\n",
        "    def _cosine_sim(self, vecA, vecB):\n",
        "        \"\"\"Find the cosine similarity distance between two vectors.\"\"\"\n",
        "        csim = np.dot(vecA, vecB) / (np.linalg.norm(vecA) * np.linalg.norm(vecB))\n",
        "        if np.isnan(np.sum(csim)):\n",
        "            return 0\n",
        "        return csim\n",
        "\n",
        "    def calculate_similarity(self, source_doc, target_docs=None, threshold=0):\n",
        "        \"\"\"Calculates & returns similarity scores between given source document & all\n",
        "        the target documents.\"\"\"\n",
        "        if not target_docs:\n",
        "            return []\n",
        "\n",
        "        if isinstance(target_docs, str):\n",
        "            target_docs = [target_docs]\n",
        "\n",
        "        source_vec = self.vectorize(source_doc)\n",
        "        results = []\n",
        "        for doc in target_docs:\n",
        "            target_vec = self.vectorize(doc)\n",
        "            sim_score = self._cosine_sim(source_vec, target_vec)\n",
        "            if sim_score > threshold:\n",
        "                results.append({\"score\": sim_score, \"doc\": doc})\n",
        "            # Sort results by score in desc order\n",
        "            results.sort(key=lambda k: k[\"score\"], reverse=True)\n",
        "\n",
        "        return results\n",
        "\n",
        "\n",
        "googlenews_model_path = EMBEDDING_FILE\n",
        "stopwords_path = \"stopwords_en.txt\"\n",
        "\n",
        "model = KeyedVectors.load_word2vec_format(googlenews_model_path, binary=True)\n",
        "with open(stopwords_path, 'r') as fh:\n",
        "    stopwords = fh.read().split(\",\")\n",
        "ds = DocSim(model, stopwords=stopwords)\n",
        "\n",
        "source_doc = data1\n",
        "target_docs = ans2 # we can provide multiple student's answers to check between them\n",
        "sim_scores = ds.calculate_similarity(source_doc, target_docs)\n",
        "count = 0\n",
        "for i in sim_scores:\n",
        "    count += i[list(i.keys())[0]]\n",
        "count /= len(sim_scores)\n",
        "print(sim_scores)\n",
        "print(count)\n",
        "\n",
        "cheating_mark = 0.75\n",
        "if count > cheating_mark:\n",
        "    print(\"High level of Cheating Detected. Please check this answer!!!\")\n"
      ]
    },
    {
      "cell_type": "code",
      "source": [],
      "metadata": {
        "id": "24-r9N8xCafO"
      },
      "execution_count": null,
      "outputs": []
    }
  ]
}